{
 "cells": [
  {
   "cell_type": "code",
   "execution_count": 1,
   "metadata": {
    "collapsed": false
   },
   "outputs": [
    {
     "data": {
      "text/plain": [
       "R version 3.3.1 (2016-06-21)\n",
       "Platform: x86_64-pc-linux-gnu (64-bit)\n",
       "Running under: Ubuntu 16.04 LTS\n",
       "\n",
       "locale:\n",
       " [1] LC_CTYPE=en_GB.UTF-8       LC_NUMERIC=C              \n",
       " [3] LC_TIME=en_GB.UTF-8        LC_COLLATE=en_GB.UTF-8    \n",
       " [5] LC_MONETARY=en_GB.UTF-8    LC_MESSAGES=en_GB.UTF-8   \n",
       " [7] LC_PAPER=en_GB.UTF-8       LC_NAME=C                 \n",
       " [9] LC_ADDRESS=C               LC_TELEPHONE=C            \n",
       "[11] LC_MEASUREMENT=en_GB.UTF-8 LC_IDENTIFICATION=C       \n",
       "\n",
       "attached base packages:\n",
       "[1] stats     graphics  grDevices utils     datasets  methods   base     \n",
       "\n",
       "loaded via a namespace (and not attached):\n",
       " [1] R6_2.1.2        magrittr_1.5    IRdisplay_0.3   pbdZMQ_0.2-3   \n",
       " [5] tools_3.3.1     base64enc_0.1-3 uuid_0.1-2      stringi_1.1.1  \n",
       " [9] IRkernel_0.6    jsonlite_0.9.22 stringr_1.0.0   digest_0.6.9   \n",
       "[13] repr_0.7        evaluate_0.9   "
      ]
     },
     "metadata": {},
     "output_type": "display_data"
    }
   ],
   "source": [
    "##prepare libraries\n",
    ".libPaths(c('/home/zimine/anaconda2/envs/py35/lib/R/library','/home/zimine/R/x86_64-pc-linux-gnu-library/3.2'))"
   ]
  },
  {
   "cell_type": "code",
   "execution_count": 9,
   "metadata": {
    "collapsed": false
   },
   "outputs": [],
   "source": [
    "library(dplyr)\n",
    "library(ggplot2)\n",
    "library(statsr)"
   ]
  },
  {
   "cell_type": "code",
   "execution_count": 10,
   "metadata": {
    "collapsed": false
   },
   "outputs": [
    {
     "data": {
      "text/plain": [
       "R version 3.3.1 (2016-06-21)\n",
       "Platform: x86_64-pc-linux-gnu (64-bit)\n",
       "Running under: Ubuntu 16.04 LTS\n",
       "\n",
       "locale:\n",
       " [1] LC_CTYPE=en_GB.UTF-8       LC_NUMERIC=C              \n",
       " [3] LC_TIME=en_GB.UTF-8        LC_COLLATE=en_GB.UTF-8    \n",
       " [5] LC_MONETARY=en_GB.UTF-8    LC_MESSAGES=en_GB.UTF-8   \n",
       " [7] LC_PAPER=en_GB.UTF-8       LC_NAME=C                 \n",
       " [9] LC_ADDRESS=C               LC_TELEPHONE=C            \n",
       "[11] LC_MEASUREMENT=en_GB.UTF-8 LC_IDENTIFICATION=C       \n",
       "\n",
       "attached base packages:\n",
       "[1] stats     graphics  grDevices utils     datasets  methods   base     \n",
       "\n",
       "other attached packages:\n",
       "[1] statsr_0.1-1  ggplot2_2.1.0 dplyr_0.4.3  \n",
       "\n",
       "loaded via a namespace (and not attached):\n",
       " [1] Rcpp_0.12.5      magrittr_1.5     munsell_0.4.3    uuid_0.1-2      \n",
       " [5] xtable_1.8-2     colorspace_1.2-6 R6_2.1.2         stringr_1.0.0   \n",
       " [9] plyr_1.8.4       tools_3.3.1      parallel_3.3.1   grid_3.3.1      \n",
       "[13] gtable_0.2.0     DBI_0.4-1        htmltools_0.3.5  assertthat_0.1  \n",
       "[17] digest_0.6.9     shiny_0.13.2     IRdisplay_0.3    repr_0.7        \n",
       "[21] base64enc_0.1-3  IRkernel_0.6     mime_0.4         evaluate_0.9    \n",
       "[25] pbdZMQ_0.2-3     stringi_1.1.1    scales_0.4.0     jsonlite_0.9.22 \n",
       "[29] httpuv_1.3.3    "
      ]
     },
     "metadata": {},
     "output_type": "display_data"
    }
   ],
   "source": [
    "sessionInfo()"
   ]
  }
 ],
 "metadata": {
  "anaconda-cloud": {},
  "kernelspec": {
   "display_name": "R [py35]",
   "language": "R",
   "name": "R [py35]"
  },
  "language_info": {
   "codemirror_mode": "r",
   "file_extension": ".r",
   "mimetype": "text/x-r-source",
   "name": "R",
   "pygments_lexer": "r",
   "version": "3.3.1"
  }
 },
 "nbformat": 4,
 "nbformat_minor": 0
}
