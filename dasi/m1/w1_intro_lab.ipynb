{
 "cells": [
  {
   "cell_type": "code",
   "execution_count": 3,
   "metadata": {
    "collapsed": false
   },
   "outputs": [
    {
     "data": {
      "text/html": [
       "<ol class=list-inline>\n",
       "\t<li>\"C:/Users/zimine/Documents/R/win-library/3.3\"</li>\n",
       "\t<li>\"C:/Users/zimine/Anaconda2/envs/py35/R/library\"</li>\n",
       "</ol>\n"
      ],
      "text/latex": [
       "\\begin{enumerate*}\n",
       "\\item \"C:/Users/zimine/Documents/R/win-library/3.3\"\n",
       "\\item \"C:/Users/zimine/Anaconda2/envs/py35/R/library\"\n",
       "\\end{enumerate*}\n"
      ],
      "text/markdown": [
       "1. \"C:/Users/zimine/Documents/R/win-library/3.3\"\n",
       "2. \"C:/Users/zimine/Anaconda2/envs/py35/R/library\"\n",
       "\n",
       "\n"
      ],
      "text/plain": [
       "[1] \"C:/Users/zimine/Documents/R/win-library/3.3\"  \n",
       "[2] \"C:/Users/zimine/Anaconda2/envs/py35/R/library\""
      ]
     },
     "metadata": {},
     "output_type": "display_data"
    }
   ],
   "source": [
    ".libPaths()"
   ]
  },
  {
   "cell_type": "code",
   "execution_count": 4,
   "metadata": {
    "collapsed": false
   },
   "outputs": [
    {
     "name": "stderr",
     "output_type": "stream",
     "text": [
      "Warning message:\n",
      ": package 'dplyr' was built under R version 3.3.1\n",
      "Attaching package: 'dplyr'\n",
      "\n",
      "The following objects are masked from 'package:stats':\n",
      "\n",
      "    filter, lag\n",
      "\n",
      "The following objects are masked from 'package:base':\n",
      "\n",
      "    intersect, setdiff, setequal, union\n",
      "\n",
      "Warning message:\n",
      ": package 'ggplot2' was built under R version 3.3.1"
     ]
    }
   ],
   "source": [
    "library(statsr)\n",
    "library(dplyr)\n",
    "library(ggplot2)"
   ]
  },
  {
   "cell_type": "markdown",
   "metadata": {},
   "source": [
    "## dataset1  dr arbuthnot baptism records"
   ]
  },
  {
   "cell_type": "code",
   "execution_count": 5,
   "metadata": {
    "collapsed": false
   },
   "outputs": [],
   "source": [
    "data(arbuthnot)"
   ]
  },
  {
   "cell_type": "code",
   "execution_count": 6,
   "metadata": {
    "collapsed": false
   },
   "outputs": [
    {
     "name": "stdout",
     "output_type": "stream",
     "text": [
      "Classes 'tbl_df', 'tbl' and 'data.frame':\t82 obs. of  3 variables:\n",
      " $ year : int  1629 1630 1631 1632 1633 1634 1635 1636 1637 1638 ...\n",
      " $ boys : int  5218 4858 4422 4994 5158 5035 5106 4917 4703 5359 ...\n",
      " $ girls: int  4683 4457 4102 4590 4839 4820 4928 4605 4457 4952 ...\n"
     ]
    }
   ],
   "source": [
    "str(arbuthnot)"
   ]
  },
  {
   "cell_type": "code",
   "execution_count": 8,
   "metadata": {
    "collapsed": false
   },
   "outputs": [
    {
     "data": {
      "text/html": [
       "<ol class=list-inline>\n",
       "\t<li>\"year\"</li>\n",
       "\t<li>\"boys\"</li>\n",
       "\t<li>\"girls\"</li>\n",
       "</ol>\n"
      ],
      "text/latex": [
       "\\begin{enumerate*}\n",
       "\\item \"year\"\n",
       "\\item \"boys\"\n",
       "\\item \"girls\"\n",
       "\\end{enumerate*}\n"
      ],
      "text/markdown": [
       "1. \"year\"\n",
       "2. \"boys\"\n",
       "3. \"girls\"\n",
       "\n",
       "\n"
      ],
      "text/plain": [
       "[1] \"year\"  \"boys\"  \"girls\""
      ]
     },
     "metadata": {},
     "output_type": "display_data"
    }
   ],
   "source": [
    "##q1 how many variables : 3\n",
    "names(arbuthnot)"
   ]
  },
  {
   "cell_type": "code",
   "execution_count": 16,
   "metadata": {
    "collapsed": false
   },
   "outputs": [
    {
     "data": {
      "text/html": [
       "<ol class=list-inline>\n",
       "\t<li>1629</li>\n",
       "\t<li>1710</li>\n",
       "</ol>\n"
      ],
      "text/latex": [
       "\\begin{enumerate*}\n",
       "\\item 1629\n",
       "\\item 1710\n",
       "\\end{enumerate*}\n"
      ],
      "text/markdown": [
       "1. 1629\n",
       "2. 1710\n",
       "\n",
       "\n"
      ],
      "text/plain": [
       "[1] 1629 1710"
      ]
     },
     "metadata": {},
     "output_type": "display_data"
    }
   ],
   "source": [
    "# what years are included\n",
    "range(arbuthnot$year)"
   ]
  },
  {
   "cell_type": "code",
   "execution_count": 12,
   "metadata": {
    "collapsed": false
   },
   "outputs": [
    {
     "data": {
      "text/html": [
       "82"
      ],
      "text/latex": [
       "82"
      ],
      "text/markdown": [
       "82"
      ],
      "text/plain": [
       "[1] 82"
      ]
     },
     "metadata": {},
     "output_type": "display_data"
    }
   ],
   "source": [
    "length(arbuthnot$girls)"
   ]
  },
  {
   "cell_type": "code",
   "execution_count": 13,
   "metadata": {
    "collapsed": false
   },
   "outputs": [
    {
     "data": {
      "image/png": "[encoded data removed]",
      "text/plain": [
       "plot without title"
      ]
     },
     "metadata": {
      "image/svg+xml": {
       "isolated": true
      }
     },
     "output_type": "display_data"
    }
   ],
   "source": [
    "## scatter plot using ggplot\n",
    "ggplot(data = arbuthnot, aes(x = year, y = girls)) +\n",
    "  geom_point()"
   ]
  },
  {
   "cell_type": "code",
   "execution_count": 17,
   "metadata": {
    "collapsed": false
   },
   "outputs": [
    {
     "name": "stdout",
     "output_type": "stream",
     "text": [
      "Classes 'tbl_df', 'tbl' and 'data.frame':\t82 obs. of  4 variables:\n",
      " $ year : int  1629 1630 1631 1632 1633 1634 1635 1636 1637 1638 ...\n",
      " $ boys : int  5218 4858 4422 4994 5158 5035 5106 4917 4703 5359 ...\n",
      " $ girls: int  4683 4457 4102 4590 4839 4820 4928 4605 4457 4952 ...\n",
      " $ total: int  9901 9315 8524 9584 9997 9855 10034 9522 9160 10311 ...\n"
     ]
    }
   ],
   "source": [
    "### dplyr  way to add columns with simple calculations\n",
    "arbuthnot <- arbuthnot %>%\n",
    "  mutate(total = boys + girls)\n",
    "str(arbuthnot)"
   ]
  },
  {
   "cell_type": "code",
   "execution_count": 19,
   "metadata": {
    "collapsed": false
   },
   "outputs": [
    {
     "name": "stdout",
     "output_type": "stream",
     "text": [
      "Classes 'tbl_df', 'tbl' and 'data.frame':\t74 obs. of  3 variables:\n",
      " $ year : num  1940 1941 1942 1943 1944 ...\n",
      " $ boys : num  1211684 1289734 1444365 1508959 1435301 ...\n",
      " $ girls: num  1148715 1223693 1364631 1427901 1359499 ...\n"
     ]
    }
   ],
   "source": [
    "## new datasets same data but nowdays\n",
    "data(present)\n",
    "str(present)"
   ]
  },
  {
   "cell_type": "code",
   "execution_count": 20,
   "metadata": {
    "collapsed": true
   },
   "outputs": [],
   "source": [
    "#proportion of boys\n",
    "present<- present %>%\n",
    "  mutate(prop_boys = boys/(boys+girls))"
   ]
  },
  {
   "cell_type": "code",
   "execution_count": 22,
   "metadata": {
    "collapsed": false
   },
   "outputs": [
    {
     "data": {
      "image/png": "[encoded data removed]",
      "text/plain": [
       "plot without title"
      ]
     },
     "metadata": {
      "image/svg+xml": {
       "isolated": true
      }
     },
     "output_type": "display_data"
    }
   ],
   "source": [
    "ggplot(data = present, aes(x = year, y = prop_boys)) +\n",
    "  geom_line() +  geom_point()\n"
   ]
  }
 ],
 "metadata": {
  "kernelspec": {
   "display_name": "R",
   "language": "R",
   "name": "ir"
  },
  "language_info": {
   "codemirror_mode": "r",
   "file_extension": ".r",
   "mimetype": "text/x-r-source",
   "name": "R",
   "pygments_lexer": "r",
   "version": "3.3.0"
  }
 },
 "nbformat": 4,
 "nbformat_minor": 0
}
