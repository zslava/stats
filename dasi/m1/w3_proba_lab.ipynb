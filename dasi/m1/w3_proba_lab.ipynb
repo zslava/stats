{
 "cells": [
  {
   "cell_type": "code",
   "execution_count": 1,
   "metadata": {
    "collapsed": false
   },
   "outputs": [
    {
     "name": "stderr",
     "output_type": "stream",
     "text": [
      "Warning message:\n",
      ": package 'dplyr' was built under R version 3.3.1\n",
      "Attaching package: 'dplyr'\n",
      "\n",
      "The following objects are masked from 'package:stats':\n",
      "\n",
      "    filter, lag\n",
      "\n",
      "The following objects are masked from 'package:base':\n",
      "\n",
      "    intersect, setdiff, setequal, union\n",
      "\n",
      "Warning message:\n",
      ": package 'ggplot2' was built under R version 3.3.1"
     ]
    }
   ],
   "source": [
    "library(statsr)\n",
    "library(dplyr)\n",
    "library(ggplot2)"
   ]
  },
  {
   "cell_type": "code",
   "execution_count": 3,
   "metadata": {
    "collapsed": false
   },
   "outputs": [],
   "source": [
    "#load data\n",
    "data(kobe_basket)"
   ]
  },
  {
   "cell_type": "code",
   "execution_count": 4,
   "metadata": {
    "collapsed": false
   },
   "outputs": [
    {
     "name": "stdout",
     "output_type": "stream",
     "text": [
      "Classes 'tbl_df', 'tbl' and 'data.frame':\t133 obs. of  6 variables:\n",
      " $ vs         : Factor w/ 1 level \"ORL\": 1 1 1 1 1 1 1 1 1 1 ...\n",
      " $ game       : int  1 1 1 1 1 1 1 1 1 1 ...\n",
      " $ quarter    : Factor w/ 5 levels \"1\",\"1OT\",\"2\",..: 1 1 1 1 1 1 1 1 1 3 ...\n",
      " $ time       : Factor w/ 116 levels \"00:00.0\",\"00:00.5\",..: 114 109 102 100 96 85 64 21 11 91 ...\n",
      " $ description: Factor w/ 80 levels \"Bryant 3pt Shot: Made (16 PTS) Assist: Bynum (1 AST)  \",..: 40 78 75 27 44 78 52 62 79 45 ...\n",
      " $ shot       : chr  \"H\" \"M\" \"M\" \"H\" ...\n"
     ]
    }
   ],
   "source": [
    "str(kobe_basket)"
   ]
  },
  {
   "cell_type": "markdown",
   "metadata": {},
   "source": [
    "####  quiz   q1 A streak length of 1 means one *hit* followed by one miss\n",
    "####  quiz   q2 A streak length of 0 means one *miss* hich must occur after a miss that ended the preceeding streak.\n",
    "\n"
   ]
  },
  {
   "cell_type": "code",
   "execution_count": 5,
   "metadata": {
    "collapsed": true
   },
   "outputs": [],
   "source": [
    "#streak lengths\n",
    "kobe_streak <- calc_streak(kobe_basket$shot)"
   ]
  },
  {
   "cell_type": "code",
   "execution_count": 6,
   "metadata": {
    "collapsed": false
   },
   "outputs": [
    {
     "data": {
      "image/png": "[encoded data removed]",
      "text/plain": [
       "plot without title"
      ]
     },
     "metadata": {
      "image/svg+xml": {
       "isolated": true
      }
     },
     "output_type": "display_data"
    }
   ],
   "source": [
    "#histogram of streaks\n",
    "ggplot(data = kobe_streak, aes(x = length)) +\n",
    "  geom_histogram(binwidth = 1)"
   ]
  },
  {
   "cell_type": "markdown",
   "metadata": {},
   "source": [
    "#### quiz Which of the following is false about the distribution of Kobe’s streak lengths from the 2009 NBA finals.\n",
    "### ans   The shortest streak is of length 1"
   ]
  },
  {
   "cell_type": "code",
   "execution_count": 9,
   "metadata": {
    "collapsed": false
   },
   "outputs": [
    {
     "data": {
      "text/plain": [
       "sim_fair_coin\n",
       "heads tails \n",
       "   49    51 "
      ]
     },
     "metadata": {},
     "output_type": "display_data"
    }
   ],
   "source": [
    "#simpulate fair coins\n",
    "coin_outcomes <- c(\"heads\", \"tails\")\n",
    "sim_fair_coin <- sample(coin_outcomes, size = 100, replace = TRUE)\n",
    "table(sim_fair_coin)"
   ]
  },
  {
   "cell_type": "code",
   "execution_count": 13,
   "metadata": {
    "collapsed": false
   },
   "outputs": [
    {
     "name": "stdout",
     "output_type": "stream",
     "text": [
      "sim_unfair_coin\n",
      "heads tails \n",
      "   20    80 \n"
     ]
    }
   ],
   "source": [
    "#sim unfaire coins\n",
    "sim_unfair_coin <- sample(coin_outcomes, size = 100, replace = TRUE, \n",
    "                          prob = c(0.2, 0.8))\n",
    "print(table(sim_unfair_coin))"
   ]
  },
  {
   "cell_type": "code",
   "execution_count": 18,
   "metadata": {
    "collapsed": true
   },
   "outputs": [],
   "source": [
    "### simulate Kobe  his p(H) = 0.45\n",
    "shot_outcomes <- c(\"H\", \"M\")\n",
    "sim_basket <- sample(shot_outcomes, size = 133, replace = TRUE, prob = c(0.45, 0.55))\n",
    "\n",
    "sim_streak <- calc_streak(sim_basket)"
   ]
  },
  {
   "cell_type": "code",
   "execution_count": 19,
   "metadata": {
    "collapsed": false
   },
   "outputs": [
    {
     "data": {
      "image/png": "[encoded data removed]",
      "text/plain": [
       "plot without title"
      ]
     },
     "metadata": {
      "image/svg+xml": {
       "isolated": true
      }
     },
     "output_type": "display_data"
    }
   ],
   "source": [
    "#histogram of simulated streaks\n",
    "ggplot(data = sim_streak, aes(x = length)) +\n",
    "  geom_histogram(binwidth = 1)"
   ]
  },
  {
   "cell_type": "markdown",
   "metadata": {},
   "source": [
    "### quiz If you were to run the simulation of the independent shooter a second time, how would you expect its streak distribution to compare to the distribution from the exercise above?\n",
    "* ans Somewhat similar"
   ]
  },
  {
   "cell_type": "markdown",
   "metadata": {},
   "source": [
    "#### quiz  How does Kobe Bryant’s distribution of streak lengths compare to the distribution of streak lengths for the simulated shooter? Using this comparison, do you have evidence that the hot hand model fits Kobe’s shooting patterns?\n",
    "\n",
    "* ans  The distributions look very similar. Therefore, there doesn’t appear to be evidence for Kobe Bryant’s hot hand."
   ]
  }
 ],
 "metadata": {
  "kernelspec": {
   "display_name": "R",
   "language": "R",
   "name": "ir"
  },
  "language_info": {
   "codemirror_mode": "r",
   "file_extension": ".r",
   "mimetype": "text/x-r-source",
   "name": "R",
   "pygments_lexer": "r",
   "version": "3.3.0"
  }
 },
 "nbformat": 4,
 "nbformat_minor": 0
}
