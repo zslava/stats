{
 "cells": [
  {
   "cell_type": "markdown",
   "metadata": {},
   "source": [
    "## Ex 10 Weekly dataset\n",
    "\n",
    "**10.a) numerical and graphical summary of the Weekly data**"
   ]
  },
  {
   "cell_type": "code",
   "execution_count": 3,
   "metadata": {
    "collapsed": false
   },
   "outputs": [
    {
     "ename": "ERROR",
     "evalue": "Error in unlist(str_split(x, \"\\n\"), recursive = FALSE, use.names = FALSE): lazy-load database '/Users/zimine/anaconda3/lib/R/library/stringr/R/stringr.rdb' is corrupt\n",
     "output_type": "error",
     "traceback": [
      "Error in unlist(str_split(x, \"\\n\"), recursive = FALSE, use.names = FALSE): lazy-load database '/Users/zimine/anaconda3/lib/R/library/stringr/R/stringr.rdb' is corrupt\nTraceback:\n"
     ]
    }
   ],
   "source": [
    "require(ISLR)\n",
    "#SP500 weekly returns between 1990 and 2010\n",
    "str(Weekly)\n",
    "dim(Weekly)\n",
    "summary(Weekly)"
   ]
  },
  {
   "cell_type": "code",
   "execution_count": null,
   "metadata": {
    "collapsed": false
   },
   "outputs": [],
   "source": [
    "pairs(Weekly, cex=0.1, col=Weekly$Direction)\n",
    "# we do not observe sppcifice relations other thena between volum and year\n",
    "# similar ot the Smarket dataset"
   ]
  },
  {
   "cell_type": "code",
   "execution_count": null,
   "metadata": {
    "collapsed": false
   },
   "outputs": [],
   "source": [
    "## correlations appear to be low except Year~Volume\n",
    "print(cor(Weekly[,-9]))"
   ]
  },
  {
   "cell_type": "code",
   "execution_count": null,
   "metadata": {
    "collapsed": false
   },
   "outputs": [],
   "source": [
    "plot(Volume~Year, data=Weekly,cex=0.3,main=\"volume versus year for weekly returns\")\n",
    "# we observe  volume increase up to 2008 then some decrease in 2009,2010"
   ]
  },
  {
   "cell_type": "markdown",
   "metadata": {},
   "source": [
    "**10.b) Logistic regression**"
   ]
  },
  {
   "cell_type": "code",
   "execution_count": null,
   "metadata": {
    "collapsed": false
   },
   "outputs": [],
   "source": [
    "##logistic regression\n",
    "glm.fit <- glm(Direction~Lag1+Lag2+Lag3+Lag4+Lag5+Volume,data=Weekly, family=binomial)\n",
    "print(summary(glm.fit))\n",
    "# as we see we have a significant p-value for Lag2"
   ]
  },
  {
   "cell_type": "markdown",
   "metadata": {},
   "source": [
    "**10.c) compute the confusion matrix  and overral error rate for logistic regression**"
   ]
  },
  {
   "cell_type": "code",
   "execution_count": null,
   "metadata": {
    "collapsed": false
   },
   "outputs": [],
   "source": [
    "logr.proba <- predict(glm.fit, type=\"response\")\n",
    "logr.pred <- rep(\"Down\", length(logr.proba))\n",
    "logr.pred[logr.proba > .5] <- \"Up\"\n",
    "\n",
    "logr.cfm <- table(logr.pred, Weekly$Direction)\n",
    "print(logr.cfm)\n",
    "\n",
    "print(paste(\"log reg model correct rate:\",mean(logr.pred == Weekly$Direction)))\n",
    "print(paste(\"log reg model error rate:\", 1 - mean(logr.pred == Weekly$Direction)))\n",
    "\n",
    "## weeks that market is predicted to go  up is  557/(557+48) = 92.1%\n",
    "## weeks that market is predicted to go down is 54 / (430 + 54) = 11.2 %"
   ]
  },
  {
   "cell_type": "markdown",
   "metadata": {},
   "source": [
    "** optional,  check the predictive power of this model on test set, trained on training set 1990-2008**"
   ]
  },
  {
   "cell_type": "code",
   "execution_count": null,
   "metadata": {
    "collapsed": false
   },
   "outputs": [],
   "source": [
    "#split to training and test  sets\n",
    "train_idx <- Weekly$Year < 2009\n",
    "Weekly_train <- Weekly[train_idx,]\n",
    "Weekly_test  <- Weekly[!train_idx,]\n",
    "print(dim(Weekly_train))\n",
    "print(dim(Weekly_test))"
   ]
  },
  {
   "cell_type": "code",
   "execution_count": null,
   "metadata": {
    "collapsed": true
   },
   "outputs": [],
   "source": [
    "##use the same model applied on training data set\n",
    "glm.fit_tr <- glm(Direction~Lag1+Lag2+Lag3+Lag4+Lag5+Volume\n",
    "\t          ,data=Weekly_train, family=binomial)"
   ]
  },
  {
   "cell_type": "code",
   "execution_count": null,
   "metadata": {
    "collapsed": false
   },
   "outputs": [],
   "source": [
    "#compute predictions on test dataset and print the confusion matrix\n",
    "logr.proba_ts <- predict(glm.fit_tr, Weekly_test, type=\"response\")\n",
    "logr.pred_ts <- rep(\"Down\", length(logr.proba_ts))\n",
    "logr.pred_ts[logr.proba_ts > .5] <- \"Up\"\n",
    "print(length(logr.pred_ts))\n",
    "\n",
    "logr.cfm_ts <- table(logr.pred_ts, Weekly_test$Direction)\n",
    "print(logr.cfm_ts)\n",
    "print(paste(\"log reg same model correct rate on test:\",mean(logr.pred_ts == Weekly_test$Direction)))\n",
    "print(paste(\"log reg same model error rate on test:\", 1 - mean(logr.pred_ts == Weekly_test$Direction)))\n",
    "\n",
    "## as we can observe our eror rate on test data increases from 0.43  to 0.53!!!"
   ]
  },
  {
   "cell_type": "markdown",
   "metadata": {},
   "source": [
    "** 10.d)  fit a logistic regression using only Lag2  using a training set and make predicions on test set**"
   ]
  },
  {
   "cell_type": "code",
   "execution_count": null,
   "metadata": {
    "collapsed": false
   },
   "outputs": [],
   "source": [
    "glm.fit_tr2 <- glm(Direction~Lag2,data=Weekly_train, family=binomial)\n",
    "print(summary(glm.fit_tr2))"
   ]
  },
  {
   "cell_type": "code",
   "execution_count": null,
   "metadata": {
    "collapsed": false
   },
   "outputs": [],
   "source": [
    "#compute predictions on test dataset and print the confusion matrix\n",
    "logr.proba_ts <- predict(glm.fit_tr2, Weekly_test, type=\"response\")\n",
    "logr.pred_ts <- rep(\"Down\", length(logr.proba_ts))\n",
    "logr.pred_ts[logr.proba_ts > .5] <- \"Up\"\n",
    "\n",
    "\n",
    "logr.cfm_ts <- table(logr.pred_ts, Weekly_test$Direction)\n",
    "print(logr.cfm_ts)\n",
    "print(paste(\"log reg Lag2 model correct rate on test:\",mean(logr.pred_ts == Weekly_test$Direction)))\n",
    "print(paste(\"log reg Lag2 model error rate on test:\", 1 - mean(logr.pred_ts == Weekly_test$Direction)))\n",
    "\n",
    "## as we see Logistic regression using just Lag2 is much better compared to using all Lags "
   ]
  },
  {
   "cell_type": "markdown",
   "metadata": {},
   "source": [
    "**10.e) repead d) using LDA **"
   ]
  },
  {
   "cell_type": "code",
   "execution_count": null,
   "metadata": {
    "collapsed": false
   },
   "outputs": [],
   "source": [
    "##10.e)  repeat d) using LDA\n",
    "require(MASS)\n",
    "lda.fit <- lda(Direction~Lag2, data=Weekly, subset=train_idx)\n",
    "lda.pred <- predict(lda.fit, Weekly_test)\n",
    "lda.class <- lda.pred$class \n",
    "\n",
    "lda.cfm <- table(lda.class, Weekly_test$Direction)\n",
    "print(lda.cfm)\n",
    "print(paste(\"LDA Lag2 model correct rate on test:\",mean(lda.class == Weekly_test$Direction)))\n",
    "print(paste(\"LDA Lag2 model error rate on test:\", 1 - mean(lda.class == Weekly_test$Direction)))\n"
   ]
  },
  {
   "cell_type": "markdown",
   "metadata": {},
   "source": [
    "**10.f) repead d) using QDA **"
   ]
  },
  {
   "cell_type": "code",
   "execution_count": null,
   "metadata": {
    "collapsed": false
   },
   "outputs": [],
   "source": [
    "##10.f  repead d) using QDA\n",
    "qda.fit <- qda(Direction~Lag2, data=Weekly, subset=train_idx)\n",
    "qda.pred <- predict(qda.fit, Weekly_test)\n",
    "qda.class <-qda.pred$class \n",
    "qda.cfm <- table(qda.class, Weekly_test$Direction)\n",
    "print(qda.cfm)\n",
    "print(paste(\"QDA Lag2 model correct rate on test:\",mean(qda.class == Weekly_test$Direction)))\n",
    "print(paste(\"QDA Lag2 model error rate on test:\", 1 - mean(qda.class == Weekly_test$Direction)))"
   ]
  },
  {
   "cell_type": "markdown",
   "metadata": {},
   "source": [
    "**10.f) repead d) using knnn with k=1 **"
   ]
  },
  {
   "cell_type": "code",
   "execution_count": null,
   "metadata": {
    "collapsed": false
   },
   "outputs": [],
   "source": [
    "##10.g  repeat d) knn with k=1\n",
    "library(class)\n",
    "\n",
    "train.X <- cbind(Weekly_train$Lag2)\n",
    "test.X <- cbind(Weekly_test$Lag2)\n",
    "\n",
    "#define a knn function to be ran later with different k\n",
    "getKnnPrediction <- function(train, test, train_y, test_y, k=1){ \n",
    "\tset.seed (1)\n",
    "\tknn.pred <- knn(train,test,train_y, k=k)\n",
    "\tcfm_knn <- table(knn.pred, test_y)\n",
    "\tprint(cfm_knn) \n",
    "    print(paste(\"knn model correct rate on test for k =\",k,\":\",\n",
    "    \tmean(knn.pred == test_y)))\n",
    "    print(paste(\"knn model error rate on test for k =\",k,\":\",\n",
    "    \t1-mean(knn.pred == test_y)))\n",
    "\n",
    "}\n",
    "\n",
    "getKnnPrediction(train=train.X, test=test.X,\n",
    "\t             train_y=Weekly_train$Direction, test_y=Weekly_test$Direction,k=1)"
   ]
  },
  {
   "cell_type": "markdown",
   "metadata": {},
   "source": [
    "**10.h) which of the methods above gives better results? **\n",
    "\n",
    "The best error rate is for Lag2 as a sole predictor model is given by LDA and Logistic Regression"
   ]
  },
  {
   "cell_type": "markdown",
   "metadata": {},
   "source": [
    "**10.i) experiment with different combination of predictors **"
   ]
  },
  {
   "cell_type": "code",
   "execution_count": null,
   "metadata": {
    "collapsed": false
   },
   "outputs": [],
   "source": [
    "## experimenting with Lag2 model knn using different k \n",
    "getKnnPrediction(train=train.X, test=test.X,\n",
    "                 train_y=Weekly_train$Direction, test_y=Weekly_test$Direction,k=1)\n",
    "getKnnPrediction(train=train.X, test=test.X,\n",
    "                 train_y=Weekly_train$Direction, test_y=Weekly_test$Direction,k=2)\n",
    "\n",
    "getKnnPrediction(train=train.X, test=test.X,\n",
    "                 train_y=Weekly_train$Direction, test_y=Weekly_test$Direction,k=3)\n",
    "\n",
    "getKnnPrediction(train=train.X, test=test.X,\n",
    "                 train_y=Weekly_train$Direction, test_y=Weekly_test$Direction,k=4)\n",
    "\n",
    "getKnnPrediction(train=train.X, test=test.X,\n",
    "                 train_y=Weekly_train$Direction, test_y=Weekly_test$Direction,k=5)\n",
    "\n",
    "#we see that the best error rate is given by k=4"
   ]
  },
  {
   "cell_type": "code",
   "execution_count": null,
   "metadata": {
    "collapsed": false
   },
   "outputs": [],
   "source": [
    "## use 1/2(Lag1+Lag2) as predictor\n",
    "##combine lag1 and lag2 into averaged lag \n",
    "Weekly_t <- Weekly \n",
    "Weekly_t$Lag12 <- 0.5*(Weekly_t$Lag1+Weekly_t$Lag2)\n",
    "Weekly_t_train <- Weekly_t[train_idx,]\n",
    "Weekly_t_test  <- Weekly_t[!train_idx,]\n",
    "\n",
    "lda.fit <- lda(Direction~Lag12, data=Weekly_t, subset=train_idx)\n",
    "lda.pred <- predict(lda.fit, Weekly_t_test)\n",
    "lda.class <- lda.pred$class \n",
    "\n",
    "lda.cfm <- table(lda.class, Weekly_t_test$Direction)\n",
    "print(lda.cfm)\n",
    "print(paste(\"LDA Lag12 model correct rate on test:\",mean(lda.class == Weekly_t_test$Direction)))\n",
    "print(paste(\"LDA Lag12 model error rate on test:\", 1 - mean(lda.class == Weekly_t_test$Direction)))\n",
    "\n",
    "#we observe that this approach makes a worse result than LDA using just L2\n",
    "# knn with k=4 gives similar results as LDA on L2"
   ]
  },
  {
   "cell_type": "code",
   "execution_count": null,
   "metadata": {
    "collapsed": false
   },
   "outputs": [],
   "source": [
    "#check Log Reg with Lag1:lAg2   i.e. with inrecaction term\n",
    "\n",
    "glm.fit_tr2 <- glm(Direction~Lag2:Lag1,data=Weekly_train, family=binomial)\n",
    "\n",
    "logr.proba_ts <- predict(glm.fit_tr2, Weekly_test, type=\"response\")\n",
    "logr.pred_ts <- rep(\"Down\", length(logr.proba_ts))\n",
    "logr.pred_ts[logr.proba_ts > .5] <- \"Up\"\n",
    "\n",
    "\n",
    "logr.cfm_ts <- table(logr.pred_ts, Weekly_test$Direction)\n",
    "print(logr.cfm_ts)\n",
    "print(paste(\"log reg Lag2:Lag1 model correct rate on test:\",mean(logr.pred_ts == Weekly_test$Direction)))\n",
    "print(paste(\"log reg Lag2:Lag1 model error rate on test:\", 1 - mean(logr.pred_ts == Weekly_test$Direction)))\n",
    "\n"
   ]
  },
  {
   "cell_type": "markdown",
   "metadata": {},
   "source": [
    "**we observe that the original model on Lag2  LogReg and LDA  plus knn with k=4 yielded the best results**"
   ]
  },
  {
   "cell_type": "code",
   "execution_count": null,
   "metadata": {
    "collapsed": true
   },
   "outputs": [],
   "source": []
  }
 ],
 "metadata": {
  "kernelspec": {
   "display_name": "R",
   "language": "R",
   "name": "ir"
  },
  "language_info": {
   "codemirror_mode": "r",
   "file_extension": ".r",
   "mimetype": "text/x-r-source",
   "name": "R",
   "pygments_lexer": "r",
   "version": "3.3.2"
  }
 },
 "nbformat": 4,
 "nbformat_minor": 2
}
