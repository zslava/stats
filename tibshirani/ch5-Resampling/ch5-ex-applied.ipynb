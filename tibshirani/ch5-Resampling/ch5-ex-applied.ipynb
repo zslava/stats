{
 "cells": [
  {
   "cell_type": "markdown",
   "metadata": {},
   "source": [
    "## Ex 5.5"
   ]
  },
  {
   "cell_type": "markdown",
   "metadata": {},
   "source": [
    "#### a)"
   ]
  },
  {
   "cell_type": "code",
   "execution_count": 33,
   "metadata": {
    "collapsed": false
   },
   "outputs": [
    {
     "data": {
      "text/plain": [
       " default    student       balance           income     \n",
       " No :9667   No :7056   Min.   :   0.0   Min.   :  772  \n",
       " Yes: 333   Yes:2944   1st Qu.: 481.7   1st Qu.:21340  \n",
       "                       Median : 823.6   Median :34553  \n",
       "                       Mean   : 835.4   Mean   :33517  \n",
       "                       3rd Qu.:1166.3   3rd Qu.:43808  \n",
       "                       Max.   :2654.3   Max.   :73554  "
      ]
     },
     "metadata": {},
     "output_type": "display_data"
    }
   ],
   "source": [
    "#a) fit a logistic regression model \n",
    "require(ISLR)\n",
    "summary(Default)"
   ]
  },
  {
   "cell_type": "code",
   "execution_count": 34,
   "metadata": {
    "collapsed": false
   },
   "outputs": [
    {
     "name": "stdout",
     "output_type": "stream",
     "text": [
      "\n",
      "Call:\n",
      "glm(formula = default ~ income + balance, family = binomial, \n",
      "    data = Default)\n",
      "\n",
      "Deviance Residuals: \n",
      "    Min       1Q   Median       3Q      Max  \n",
      "-2.4725  -0.1444  -0.0574  -0.0211   3.7245  \n",
      "\n",
      "Coefficients:\n",
      "              Estimate Std. Error z value Pr(>|z|)    \n",
      "(Intercept) -1.154e+01  4.348e-01 -26.545  < 2e-16 ***\n",
      "income       2.081e-05  4.985e-06   4.174 2.99e-05 ***\n",
      "balance      5.647e-03  2.274e-04  24.836  < 2e-16 ***\n",
      "---\n",
      "Signif. codes:  0 ‘***’ 0.001 ‘**’ 0.01 ‘*’ 0.05 ‘.’ 0.1 ‘ ’ 1\n",
      "\n",
      "(Dispersion parameter for binomial family taken to be 1)\n",
      "\n",
      "    Null deviance: 2920.6  on 9999  degrees of freedom\n",
      "Residual deviance: 1579.0  on 9997  degrees of freedom\n",
      "AIC: 1585\n",
      "\n",
      "Number of Fisher Scoring iterations: 8\n",
      "\n"
     ]
    }
   ],
   "source": [
    "#logistic regresion  trained on full data set\n",
    "glm.fit <- glm(default~income+balance, data=Default, family=binomial)\n",
    "print(summary(glm.fit))\n",
    "\n",
    "# we observe that both variables have low p-values"
   ]
  },
  {
   "cell_type": "markdown",
   "metadata": {},
   "source": [
    "### b)"
   ]
  },
  {
   "cell_type": "code",
   "execution_count": 35,
   "metadata": {
    "collapsed": false
   },
   "outputs": [
    {
     "data": {
      "text/html": [
       "0.0286"
      ],
      "text/latex": [
       "0.0286"
      ],
      "text/markdown": [
       "0.0286"
      ],
      "text/plain": [
       "[1] 0.0286"
      ]
     },
     "metadata": {},
     "output_type": "display_data"
    }
   ],
   "source": [
    "#b) use validation apparoach estimate the test erro of this model\n",
    "#i  lets put code which computes model errror in a funciton \n",
    "set.seed(1)\n",
    "\n",
    "logreg_vsrun_tsterror<-function(Default){\n",
    "\t#make a new random smaple\n",
    "\ttsmpl <- sample(1:nrow(Default), nrow(Default)/2)  #training size is half of the dataset\n",
    "\ttrain_idx <- 1:nrow(Default) %in% tsmpl\n",
    "\n",
    "\tglm.fit <- glm(default~income+balance, data=Default, family=binomial, subset=train_idx)\n",
    "\n",
    "\tglm.probs<-predict(glm.fit,Default[!train_idx,], type=\"response\")\n",
    "\tglm.pred<-rep(\"No\", length(glm.probs))\n",
    "\tglm.pred[glm.probs > 0.5 ] <- \"Yes\"\n",
    "    model_tst_err <- mean(glm.pred != Default[!train_idx,]$default)\n",
    "    return (model_tst_err)\n",
    "}\n",
    "logreg_vsrun_tsterror(Default)"
   ]
  },
  {
   "cell_type": "markdown",
   "metadata": {},
   "source": [
    "### c)"
   ]
  },
  {
   "cell_type": "code",
   "execution_count": 36,
   "metadata": {
    "collapsed": false
   },
   "outputs": [
    {
     "name": "stdout",
     "output_type": "stream",
     "text": [
      "[1] \"default mode vs run  test error: 0.0236\"\n",
      "[1] \"default mode vs run  test error: 0.028\"\n",
      "[1] \"default mode vs run  test error: 0.0268\"\n"
     ]
    }
   ],
   "source": [
    "print(paste(\"default mode vs run  test error:\", logreg_vsrun_tsterror(Default)))\n",
    "print(paste(\"default mode vs run  test error:\", logreg_vsrun_tsterror(Default)))\n",
    "print(paste(\"default mode vs run  test error:\", logreg_vsrun_tsterror(Default)))\n",
    "\n",
    "#we observe that the mean test erro seems to be around 0.026"
   ]
  },
  {
   "cell_type": "code",
   "execution_count": 37,
   "metadata": {
    "collapsed": false
   },
   "outputs": [
    {
     "name": "stdout",
     "output_type": "stream",
     "text": [
      "[1] \"lgoreg income+balance mean: 0.02594 sd: 0.00119275591244255\"\n"
     ]
    }
   ],
   "source": [
    "### ADDITIONAL  lets compute mean and standard deviation of the test error 10 times\n",
    "runlng <- 10\n",
    "tse <- rep(0,runlng)\n",
    "for (i in 1:runlng){\n",
    "\ttse[i] <- logreg_vsrun_tsterror(Default)\n",
    "}\n",
    "print(paste(\"lgoreg income+balance mean:\", mean(tse), \"sd:\", sd(tse)))\n",
    "## we observe the  mean and sdandard devition of the model error rate"
   ]
  },
  {
   "cell_type": "markdown",
   "metadata": {},
   "source": [
    "### d)"
   ]
  },
  {
   "cell_type": "code",
   "execution_count": 38,
   "metadata": {
    "collapsed": false
   },
   "outputs": [
    {
     "name": "stdout",
     "output_type": "stream",
     "text": [
      "[1] \"lgoreg income+balance+student mean: 0.02558 sd: 0.00172935440747889\"\n"
     ]
    }
   ],
   "source": [
    "#redifined the function with a changed model\n",
    "# with student added in  log reg model\n",
    "logreg_vsrun_tsterror_m1<-function(Default){\n",
    "\t#make a new random smaple\n",
    "\ttsmpl <- sample(1:nrow(Default), nrow(Default)/2)  #training size is half of the dataset\n",
    "\ttrain_idx <- 1:nrow(Default) %in% tsmpl\n",
    "\n",
    "\tglm.fit <- glm(default~income+balance+student, data=Default, family=binomial, subset=train_idx)\n",
    "\n",
    "\tglm.probs<-predict(glm.fit,Default[!train_idx,], type=\"response\")\n",
    "\tglm.pred<-rep(\"No\", length(glm.probs))\n",
    "\tglm.pred[glm.probs > 0.5 ] <- \"Yes\"\n",
    "    model_tst_err <- mean(glm.pred != Default[!train_idx,]$default)\n",
    "    return (model_tst_err)\n",
    "}\n",
    "#running the validation set 1- times\n",
    "runlng <- 10\n",
    "tse <- rep(0,runlng)\n",
    "for (i in 1:runlng){\n",
    "\ttse[i] <- logreg_vsrun_tsterror(Default)\n",
    "}\n",
    "print(paste(\"lgoreg income+balance+student mean:\", mean(tse), \"sd:\", sd(tse)))\n",
    "\n",
    "## we observe that adding student to the model does not matter. i.e. a new  tst error and standard deviation\n",
    "# lie  within the previous tst error and standard deviation. "
   ]
  },
  {
   "cell_type": "markdown",
   "metadata": {},
   "source": [
    "## Ex 6\n",
    "### a)"
   ]
  },
  {
   "cell_type": "code",
   "execution_count": 39,
   "metadata": {
    "collapsed": false
   },
   "outputs": [
    {
     "name": "stdout",
     "output_type": "stream",
     "text": [
      "                 Estimate   Std. Error    z value      Pr(>|z|)\n",
      "(Intercept) -1.154047e+01 4.347564e-01 -26.544680 2.958355e-155\n",
      "income       2.080898e-05 4.985167e-06   4.174178  2.990638e-05\n",
      "balance      5.647103e-03 2.273731e-04  24.836280 3.638120e-136\n"
     ]
    }
   ],
   "source": [
    "glm.fit<-glm(default~income+balance, data=Default, family=binomial)\n",
    "print(coef(summary(glm.fit)))"
   ]
  },
  {
   "cell_type": "markdown",
   "metadata": {},
   "source": [
    "### b)"
   ]
  },
  {
   "cell_type": "code",
   "execution_count": 40,
   "metadata": {
    "collapsed": false
   },
   "outputs": [
    {
     "name": "stdout",
     "output_type": "stream",
     "text": [
      "[1] \"number of observations in the dataset: 10000\"\n",
      "[1] \"coefs: -11.5404684366776\"    \"coefs: 2.08089755005988e-05\"\n",
      "[3] \"coefs: 0.00564710294333903\" \n"
     ]
    }
   ],
   "source": [
    "#b)\n",
    "boot.fn<-function(data,index){\n",
    "\treturn ( coef(glm(default~income+balance, data=data, subset=index,family=binomial)) )\n",
    "}\n",
    "print(paste(\"number of observations in the dataset:\",nrow(Default)))\n",
    "#appying a boot.fn  function on a original dataset index\n",
    "print(paste(\"coefs:\",boot.fn(Default, 1:nrow(Default))))"
   ]
  },
  {
   "cell_type": "markdown",
   "metadata": {},
   "source": [
    "### c)"
   ]
  },
  {
   "cell_type": "code",
   "execution_count": 41,
   "metadata": {
    "collapsed": false
   },
   "outputs": [
    {
     "name": "stdout",
     "output_type": "stream",
     "text": [
      "[1] \"applying bootstrap to for log reg model coefficients 50 times number of obs in dataset: 10000\"\n",
      "\n",
      "ORDINARY NONPARAMETRIC BOOTSTRAP\n",
      "\n",
      "\n",
      "Call:\n",
      "boot(data = Default, statistic = boot.fn, R = 50)\n",
      "\n",
      "\n",
      "Bootstrap Statistics :\n",
      "         original        bias     std. error\n",
      "t1* -1.154047e+01  1.181200e-01 4.202402e-01\n",
      "t2*  2.080898e-05 -5.466926e-08 4.542214e-06\n",
      "t3*  5.647103e-03 -6.974834e-05 2.282819e-04\n"
     ]
    }
   ],
   "source": [
    "require(boot)\n",
    "set.seed(1)\n",
    "print(paste(\"applying bootstrap to for log reg model coefficients 50 times\",\n",
    "            \"number of obs in dataset:\", nrow(Default) ))\n",
    "\n",
    "print(boot(Default,boot.fn,R=50))\n",
    "\n"
   ]
  },
  {
   "cell_type": "markdown",
   "metadata": {},
   "source": [
    "### d)\n",
    "\n",
    "We can observe that standard error estimated by glm and by bootstrap  are similar"
   ]
  },
  {
   "cell_type": "markdown",
   "metadata": {},
   "source": [
    "## Ex 5.7"
   ]
  },
  {
   "cell_type": "code",
   "execution_count": 42,
   "metadata": {
    "collapsed": false
   },
   "outputs": [
    {
     "name": "stdout",
     "output_type": "stream",
     "text": [
      "'data.frame':\t1089 obs. of  9 variables:\n",
      " $ Year     : num  1990 1990 1990 1990 1990 1990 1990 1990 1990 1990 ...\n",
      " $ Lag1     : num  0.816 -0.27 -2.576 3.514 0.712 ...\n",
      " $ Lag2     : num  1.572 0.816 -0.27 -2.576 3.514 ...\n",
      " $ Lag3     : num  -3.936 1.572 0.816 -0.27 -2.576 ...\n",
      " $ Lag4     : num  -0.229 -3.936 1.572 0.816 -0.27 ...\n",
      " $ Lag5     : num  -3.484 -0.229 -3.936 1.572 0.816 ...\n",
      " $ Volume   : num  0.155 0.149 0.16 0.162 0.154 ...\n",
      " $ Today    : num  -0.27 -2.576 3.514 0.712 1.178 ...\n",
      " $ Direction: Factor w/ 2 levels \"Down\",\"Up\": 1 1 2 2 2 1 2 2 2 1 ...\n"
     ]
    }
   ],
   "source": [
    "require(ISLR)\n",
    "str(Weekly)\n",
    "set.seed(1)"
   ]
  },
  {
   "cell_type": "markdown",
   "metadata": {},
   "source": [
    "### a)"
   ]
  },
  {
   "cell_type": "code",
   "execution_count": 43,
   "metadata": {
    "collapsed": true
   },
   "outputs": [],
   "source": [
    "glm.fit<-glm(Direction~Lag1+Lag2, data=Weekly, family=binomial)"
   ]
  },
  {
   "cell_type": "markdown",
   "metadata": {},
   "source": [
    "### b)"
   ]
  },
  {
   "cell_type": "code",
   "execution_count": 44,
   "metadata": {
    "collapsed": true
   },
   "outputs": [],
   "source": [
    "#log reg with all but the first obs\n",
    "glm.fit<-glm(Direction~Lag1+Lag2, data=Weekly[-1,], family=binomial)"
   ]
  },
  {
   "cell_type": "markdown",
   "metadata": {},
   "source": [
    "### c)"
   ]
  },
  {
   "cell_type": "code",
   "execution_count": 47,
   "metadata": {
    "collapsed": false
   },
   "outputs": [
    {
     "name": "stdout",
     "output_type": "stream",
     "text": [
      "[1] \"prediction fist observation of Weekly set: Up\"\n",
      "[1] \"first observation of dataset\"\n",
      "  Year  Lag1  Lag2   Lag3   Lag4   Lag5   Volume Today Direction\n",
      "1 1990 0.816 1.572 -3.936 -0.229 -3.484 0.154976 -0.27      Down\n"
     ]
    }
   ],
   "source": [
    "glm.probs <- predict(glm.fit, Weekly[1,], type=\"response\")\n",
    "glm.pred <- rep(\"Down\",length(glm.probs))\n",
    "glm.pred[glm.probs > 0.5] <- \"Up\"\n",
    "print(paste(\"prediction fist observation of Weekly set:\", glm.pred))\n",
    "print(\"first observation of dataset\")\n",
    "print(Weekly[1,])\n",
    "#we see the prediction is wrong"
   ]
  },
  {
   "cell_type": "markdown",
   "metadata": {},
   "source": [
    "### d)"
   ]
  },
  {
   "cell_type": "code",
   "execution_count": 48,
   "metadata": {
    "collapsed": true
   },
   "outputs": [],
   "source": [
    "lng <- nrow(Weekly)\n",
    "#lng <- 10  #for debugging\n",
    "iscorrect<-rep(0,lng)\n",
    "for (i in 1:lng) {\n",
    "\tglm.fit<-glm(Direction~Lag1+Lag2, data=Weekly[-i,], family=binomial)\n",
    "\tglm.prob <- predict(glm.fit, Weekly[i,], type=\"response\")\n",
    "\tglm.pred <- ifelse( glm.prob > 0.5, \"Up\", \"Down\")\n",
    "\tiscorrect[i] <- ifelse (glm.pred == Weekly[i,]$Direction, 1, 0 )\n",
    "}\n"
   ]
  },
  {
   "cell_type": "markdown",
   "metadata": {},
   "source": [
    "### e)"
   ]
  },
  {
   "cell_type": "code",
   "execution_count": 49,
   "metadata": {
    "collapsed": false
   },
   "outputs": [
    {
     "name": "stdout",
     "output_type": "stream",
     "text": [
      "[1] \"loocv by for estimate: 0.550045913682277\"\n"
     ]
    }
   ],
   "source": [
    "print(paste(\"loocv by for estimate:\",mean(iscorrect)))"
   ]
  },
  {
   "cell_type": "markdown",
   "metadata": {},
   "source": [
    "## Ex 5.8"
   ]
  },
  {
   "cell_type": "markdown",
   "metadata": {},
   "source": [
    "### a)"
   ]
  },
  {
   "cell_type": "code",
   "execution_count": 50,
   "metadata": {
    "collapsed": true
   },
   "outputs": [],
   "source": [
    "nobs<-100\n",
    "\n",
    "x<-rnorm(nobs)\n",
    "y<-x-2*x^2+rnorm(100)"
   ]
  },
  {
   "cell_type": "markdown",
   "metadata": {},
   "source": [
    "n=100 ; p=2\n",
    "\n",
    "$Y = f(X) = X - 2 X^2 + \\epsilon$"
   ]
  },
  {
   "cell_type": "markdown",
   "metadata": {},
   "source": [
    "### b)"
   ]
  },
  {
   "cell_type": "code",
   "execution_count": 51,
   "metadata": {
    "collapsed": false
   },
   "outputs": [
    {
     "data": {
      "image/png": "[encoded data removed]",
      "text/plain": [
       "plot without title"
      ]
     },
     "metadata": {},
     "output_type": "display_data"
    }
   ],
   "source": [
    "plot(x,y)"
   ]
  },
  {
   "cell_type": "markdown",
   "metadata": {},
   "source": [
    "### c)"
   ]
  },
  {
   "cell_type": "code",
   "execution_count": 53,
   "metadata": {
    "collapsed": false
   },
   "outputs": [
    {
     "name": "stdout",
     "output_type": "stream",
     "text": [
      "[1] \"linear regression model degree 1 loocv error: 7.28816160667281\"\n",
      "[1] \"linear regression model degree 2 loocv error: 0.937423637615552\"\n",
      "[1] \"linear regression model degree 3 loocv error: 0.956621830108939\"\n",
      "[1] \"linear regression model degree 4 loocv error: 0.953904892744803\"\n"
     ]
    }
   ],
   "source": [
    "require(boot)\n",
    "set.seed(1)\n",
    "dataset <- data.frame(x,y)\n",
    "\n",
    "\n",
    "for (i in (1:4)){\n",
    "\tglm.fit<-glm(y~poly(x,i),data=dataset)\n",
    "\tcv.err<-cv.glm(dataset,glm.fit)\n",
    "\tprint(paste(\"linear regression model degree\",i,\"loocv error:\",cv.err$delta[1]))\n",
    "}\n"
   ]
  },
  {
   "cell_type": "markdown",
   "metadata": {},
   "source": [
    "### d)"
   ]
  },
  {
   "cell_type": "code",
   "execution_count": 54,
   "metadata": {
    "collapsed": false
   },
   "outputs": [
    {
     "name": "stdout",
     "output_type": "stream",
     "text": [
      "[1] \"linear regression model degree 1 loocv error: 7.28816160667281\"\n",
      "[1] \"linear regression model degree 2 loocv error: 0.937423637615552\"\n",
      "[1] \"linear regression model degree 3 loocv error: 0.95662183010894\"\n",
      "[1] \"linear regression model degree 4 loocv error: 0.953904892744804\"\n"
     ]
    }
   ],
   "source": [
    "set.seed(10)\n",
    "dataset <- data.frame(x,y)\n",
    "\n",
    "\n",
    "for (i in (1:4)){\n",
    "\tglm.fit<-glm(y~poly(x,i),data=dataset)\n",
    "\tcv.err<-cv.glm(dataset,glm.fit)\n",
    "\tprint(paste(\"linear regression model degree\",i,\"loocv error:\",cv.err$delta[1]))\n",
    "}\n",
    "\n"
   ]
  },
  {
   "cell_type": "markdown",
   "metadata": {},
   "source": [
    "We observe that loocv result are the same independent of the seed. Loocv evalautes n folds of a single observation"
   ]
  },
  {
   "cell_type": "markdown",
   "metadata": {},
   "source": [
    "### e)"
   ]
  },
  {
   "cell_type": "markdown",
   "metadata": {},
   "source": [
    "The polinomial model with degree 2 has the lowest loocv error"
   ]
  },
  {
   "cell_type": "markdown",
   "metadata": {},
   "source": [
    "### f)"
   ]
  },
  {
   "cell_type": "code",
   "execution_count": 55,
   "metadata": {
    "collapsed": false
   },
   "outputs": [
    {
     "name": "stdout",
     "output_type": "stream",
     "text": [
      "\n",
      "Call:\n",
      "glm(formula = y ~ poly(x, 4), data = dataset)\n",
      "\n",
      "Deviance Residuals: \n",
      "    Min       1Q   Median       3Q      Max  \n",
      "-2.0550  -0.6212  -0.1567   0.5952   2.2267  \n",
      "\n",
      "Coefficients:\n",
      "             Estimate Std. Error t value Pr(>|t|)    \n",
      "(Intercept)  -1.55002    0.09591 -16.162  < 2e-16 ***\n",
      "poly(x, 4)1   6.18883    0.95905   6.453 4.59e-09 ***\n",
      "poly(x, 4)2 -23.94830    0.95905 -24.971  < 2e-16 ***\n",
      "poly(x, 4)3   0.26411    0.95905   0.275    0.784    \n",
      "poly(x, 4)4   1.25710    0.95905   1.311    0.193    \n",
      "---\n",
      "Signif. codes:  0 ‘***’ 0.001 ‘**’ 0.01 ‘*’ 0.05 ‘.’ 0.1 ‘ ’ 1\n",
      "\n",
      "(Dispersion parameter for gaussian family taken to be 0.9197797)\n",
      "\n",
      "    Null deviance: 700.852  on 99  degrees of freedom\n",
      "Residual deviance:  87.379  on 95  degrees of freedom\n",
      "AIC: 282.3\n",
      "\n",
      "Number of Fisher Scoring iterations: 2\n",
      "\n"
     ]
    }
   ],
   "source": [
    "print( summary(glm(y~poly(x,4),data=dataset)))"
   ]
  },
  {
   "cell_type": "markdown",
   "metadata": {},
   "source": [
    "We observe that p-values are significant only up to degree 2 of the  x. This agrees with loocv result."
   ]
  },
  {
   "cell_type": "markdown",
   "metadata": {
    "collapsed": true
   },
   "source": [
    "## Ex 5.9\n",
    "### a)"
   ]
  },
  {
   "cell_type": "code",
   "execution_count": 1,
   "metadata": {
    "collapsed": false
   },
   "outputs": [
    {
     "name": "stderr",
     "output_type": "stream",
     "text": [
      "Loading required package: MASS\n"
     ]
    },
    {
     "name": "stdout",
     "output_type": "stream",
     "text": [
      "[1] \"medv mu estimate: 22.5328063241107\"\n"
     ]
    }
   ],
   "source": [
    "#Boston data set \n",
    "require(MASS)\n",
    "#a)\n",
    "mu <- mean(Boston$medv)\n",
    "print(paste(\"medv mu estimate:\",mu))"
   ]
  },
  {
   "cell_type": "markdown",
   "metadata": {},
   "source": [
    "### b)"
   ]
  },
  {
   "cell_type": "code",
   "execution_count": 2,
   "metadata": {
    "collapsed": false
   },
   "outputs": [
    {
     "name": "stdout",
     "output_type": "stream",
     "text": [
      "[1] \"1 estimate of medv std error: 0.408861147497535\"\n"
     ]
    }
   ],
   "source": [
    "mu_stderr <- sd(Boston$medv) / sqrt(nrow(Boston))\n",
    "print(paste(\"1 estimate of medv std error:\",mu_stderr))"
   ]
  },
  {
   "cell_type": "markdown",
   "metadata": {},
   "source": [
    "### c)"
   ]
  },
  {
   "cell_type": "code",
   "execution_count": 5,
   "metadata": {
    "collapsed": false
   },
   "outputs": [
    {
     "name": "stdout",
     "output_type": "stream",
     "text": [
      "\n",
      "ORDINARY NONPARAMETRIC BOOTSTRAP\n",
      "\n",
      "\n",
      "Call:\n",
      "boot(data = Boston, statistic = medv_mu.fn, R = 1000)\n",
      "\n",
      "\n",
      "Bootstrap Statistics :\n",
      "    original      bias    std. error\n",
      "t1* 22.53281 0.002281423   0.4016148\n"
     ]
    }
   ],
   "source": [
    "require(boot)\n",
    "medv_mu.fn <-function(data,index){\n",
    "\tmedv_mu <- mean(data[index,]$medv) \n",
    "\treturn(medv_mu)\n",
    "}\n",
    "#print(  medv_mu.fn(Boston, 1:nrow(Boston)) )\n",
    "\n",
    "btstrap <- boot(Boston,medv_mu.fn,1000)\n",
    "print(btstrap)\n",
    "\n",
    "#we observe that standard error of medv mean is close  to the previous estimate"
   ]
  },
  {
   "cell_type": "markdown",
   "metadata": {},
   "source": [
    "### e)"
   ]
  },
  {
   "cell_type": "code",
   "execution_count": 6,
   "metadata": {
    "collapsed": false
   },
   "outputs": [
    {
     "name": "stdout",
     "output_type": "stream",
     "text": [
      "[1] \"median estimate: 21.2\"\n"
     ]
    }
   ],
   "source": [
    "med <- median(Boston$medv)\n",
    "print(paste(\"median estimate:\",med))"
   ]
  },
  {
   "cell_type": "markdown",
   "metadata": {},
   "source": [
    "### f)"
   ]
  },
  {
   "cell_type": "code",
   "execution_count": 8,
   "metadata": {
    "collapsed": false
   },
   "outputs": [
    {
     "name": "stdout",
     "output_type": "stream",
     "text": [
      "[1] \"median medv by bootstrap\"\n",
      "\n",
      "ORDINARY NONPARAMETRIC BOOTSTRAP\n",
      "\n",
      "\n",
      "Call:\n",
      "boot(data = Boston, statistic = medv_median.fn, R = 1000)\n",
      "\n",
      "\n",
      "Bootstrap Statistics :\n",
      "    original  bias    std. error\n",
      "t1*     21.2  0.0041   0.3811344\n"
     ]
    }
   ],
   "source": [
    "medv_median.fn <-function(data,index){\n",
    "\tmed <- median(data[index,]$medv) \n",
    "\treturn(med)\n",
    "}\n",
    "#print(  medv_median.fn(Boston, 1:nrow(Boston)) ) #for debugging\n",
    "\n",
    "btstrap <- boot(Boston,medv_median.fn,1000)\n",
    "print(\"median medv by bootstrap\")\n",
    "print(btstrap)\n",
    "\n",
    "# we observe that standard error of median is similar of that of the mean\n",
    "# standard erro is small relativ to the median estimate"
   ]
  },
  {
   "cell_type": "markdown",
   "metadata": {},
   "source": [
    "### g)"
   ]
  },
  {
   "cell_type": "code",
   "execution_count": 9,
   "metadata": {
    "collapsed": false
   },
   "outputs": [
    {
     "name": "stdout",
     "output_type": "stream",
     "text": [
      "[1] \"10% quantile of medv: 12.75\"\n"
     ]
    }
   ],
   "source": [
    "mu_01<-quantile(Boston$medv, 0.1)\n",
    "print(paste(\"10% quantile of medv:\",mu_01))"
   ]
  },
  {
   "cell_type": "markdown",
   "metadata": {},
   "source": [
    "### h)"
   ]
  },
  {
   "cell_type": "code",
   "execution_count": 10,
   "metadata": {
    "collapsed": false
   },
   "outputs": [
    {
     "name": "stdout",
     "output_type": "stream",
     "text": [
      "[1] \"10% quantile of medv by bootstrap\"\n",
      "\n",
      "ORDINARY NONPARAMETRIC BOOTSTRAP\n",
      "\n",
      "\n",
      "Call:\n",
      "boot(data = Boston, statistic = medv_quant10.fn, R = 1000)\n",
      "\n",
      "\n",
      "Bootstrap Statistics :\n",
      "    original  bias    std. error\n",
      "t1*    12.75  0.0197   0.5027521\n"
     ]
    }
   ],
   "source": [
    "medv_quant10.fn <-function(data,index){\n",
    "\tqmu <- quantile( data[index,]$medv, c(0.1) ) \n",
    "\treturn(qmu)\n",
    "}\n",
    "#print(  medv_quant10.fn(Boston, 1:nrow(Boston)) ) #for debugging\n",
    "\n",
    "btstrap <- boot(Boston,medv_quant10.fn,1000)\n",
    "print(\"10% quantile of medv by bootstrap\")\n",
    "print(btstrap)\n",
    "\n",
    "#we obsert the estmate by the boostrap mathes the sample 10% quantile.  \n",
    "#the standard error of the 10% quantile is of the same order of magnitude compared to stderr of mean, meddian\n",
    "# the standard error is small relative to the estimate of 10% quantile\n"
   ]
  },
  {
   "cell_type": "code",
   "execution_count": null,
   "metadata": {
    "collapsed": true
   },
   "outputs": [],
   "source": []
  }
 ],
 "metadata": {
  "kernelspec": {
   "display_name": "R",
   "language": "R",
   "name": "ir"
  },
  "language_info": {
   "codemirror_mode": "r",
   "file_extension": ".r",
   "mimetype": "text/x-r-source",
   "name": "R",
   "pygments_lexer": "r",
   "version": "3.3.2"
  }
 },
 "nbformat": 4,
 "nbformat_minor": 2
}
