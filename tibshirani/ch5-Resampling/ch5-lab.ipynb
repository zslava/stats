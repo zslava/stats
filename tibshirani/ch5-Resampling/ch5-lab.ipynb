{
 "cells": [
  {
   "cell_type": "markdown",
   "metadata": {},
   "source": [
    "## The validation set approach"
   ]
  },
  {
   "cell_type": "code",
   "execution_count": 1,
   "metadata": {
    "collapsed": false
   },
   "outputs": [
    {
     "name": "stderr",
     "output_type": "stream",
     "text": [
      "Loading required package: ISLR\n"
     ]
    }
   ],
   "source": [
    "require(ISLR)"
   ]
  },
  {
   "cell_type": "code",
   "execution_count": 2,
   "metadata": {
    "collapsed": false
   },
   "outputs": [],
   "source": [
    "set.seed(1)"
   ]
  },
  {
   "cell_type": "code",
   "execution_count": 3,
   "metadata": {
    "collapsed": false
   },
   "outputs": [
    {
     "name": "stdout",
     "output_type": "stream",
     "text": [
      "[1] \"estimated MSE on lm: 26.1414211520072\"\n"
     ]
    }
   ],
   "source": [
    "#work on Auto dataset\n",
    "#make a sample of integers between 1,392 of size  196  the half of Auto dataset\n",
    "train<-sample(392,196)\n",
    "#linear regresssion trained on train set  (0.5 of whole dataset)\n",
    "lm.fit<-lm(mpg~horsepower,data=Auto,subset=train)\n",
    "\n",
    "#use predict() to estimate response on validation set (-train)\n",
    "attach(Auto)\n",
    "print(paste(\"estimated MSE on lm:\",mean( (mpg-predict(lm.fit,Auto))[-train]^2  )))"
   ]
  },
  {
   "cell_type": "code",
   "execution_count": 4,
   "metadata": {
    "collapsed": false
   },
   "outputs": [
    {
     "name": "stdout",
     "output_type": "stream",
     "text": [
      "[1] \"estimated MSE on lm poly 2: 19.8225850408262\"\n",
      "[1] \"estimated MSE on lm poly 3: 19.7825166856023\"\n",
      "[1] \"estimated MSE on lm poly 4: 19.999685962002\"\n"
     ]
    }
   ],
   "source": [
    "#do the estimation of the same MSE on poly models\n",
    "lm.fit2<-lm(mpg~poly(horsepower,2),data=Auto,subset=train)\n",
    "print(paste(\"estimated MSE on lm poly 2:\",mean( (mpg-predict(lm.fit2,Auto))[-train]^2  )))\n",
    "\n",
    "lm.fit3<-lm(mpg~poly(horsepower,3),data=Auto,subset=train)\n",
    "print(paste(\"estimated MSE on lm poly 3:\",mean( (mpg-predict(lm.fit3,Auto))[-train]^2  )))\n",
    "\n",
    "lm.fit4<-lm(mpg~poly(horsepower,4),data=Auto,subset=train)\n",
    "print(paste(\"estimated MSE on lm poly 4:\",mean( (mpg-predict(lm.fit4,Auto))[-train]^2  )))\n"
   ]
  },
  {
   "cell_type": "code",
   "execution_count": 5,
   "metadata": {
    "collapsed": false
   },
   "outputs": [
    {
     "name": "stdout",
     "output_type": "stream",
     "text": [
      "[1] \"estimated MSE on lm: 23.2955851508862\"\n",
      "[1] \"estimated MSE on lm poly 2: 18.9012408317778\"\n",
      "[1] \"estimated MSE on lm poly 3: 19.2573982608642\"\n",
      "[1] \"estimated MSE on lm poly 4: 20.3853777964338\"\n"
     ]
    }
   ],
   "source": [
    "##lets see how choosing another trainig set afects  MSE results\n",
    "set.seed(2)\n",
    "train<-sample(392,196) #resample\n",
    "lm.fit<-lm(mpg~horsepower,data=Auto,subset=train)\n",
    "print(paste(\"estimated MSE on lm:\",mean( (mpg-predict(lm.fit,Auto))[-train]^2  )))\n",
    "lm.fit2<-lm(mpg~poly(horsepower,2),data=Auto,subset=train)\n",
    "print(paste(\"estimated MSE on lm poly 2:\",mean( (mpg-predict(lm.fit2,Auto))[-train]^2  )))\n",
    "lm.fit3<-lm(mpg~poly(horsepower,3),data=Auto,subset=train)\n",
    "print(paste(\"estimated MSE on lm poly 3:\",mean( (mpg-predict(lm.fit3,Auto))[-train]^2  )))\n",
    "lm.fit4<-lm(mpg~poly(horsepower,4),data=Auto,subset=train)\n",
    "print(paste(\"estimated MSE on lm poly 4:\",mean( (mpg-predict(lm.fit4,Auto))[-train]^2  )))"
   ]
  },
  {
   "cell_type": "markdown",
   "metadata": {},
   "source": [
    "## Leave-One-Out Cross-Validation (LOOCV)"
   ]
  },
  {
   "cell_type": "code",
   "execution_count": 6,
   "metadata": {
    "collapsed": false
   },
   "outputs": [
    {
     "name": "stderr",
     "output_type": "stream",
     "text": [
      "Loading required package: boot\n"
     ]
    },
    {
     "name": "stdout",
     "output_type": "stream",
     "text": [
      "[1] \"cv error on lm:\"\n",
      "[1] 24.23151 24.23114\n"
     ]
    }
   ],
   "source": [
    "require(boot)\n",
    "glm.fit<-glm(mpg~horsepower,data=Auto) #no params in glm  == linear regression is done\n",
    "cv.err<-cv.glm(Auto,glm.fit) \n",
    "print(\"cv error on lm:\")\n",
    "print(cv.err$delta)"
   ]
  },
  {
   "cell_type": "code",
   "execution_count": 7,
   "metadata": {
    "collapsed": false
   },
   "outputs": [
    {
     "name": "stdout",
     "output_type": "stream",
     "text": [
      "[1] \"loocv for degree: 1 ..\"\n",
      "[1] \"loocv for degree: 2 ..\"\n",
      "[1] \"loocv for degree: 3 ..\"\n",
      "[1] \"loocv for degree: 4 ..\"\n",
      "[1] \"loocv for degree: 5 ..\"\n",
      "[1] \"loocv for poly of 5 degrees\"\n",
      "[1] 24.23151 19.24821 19.33498 19.42443 19.03321\n"
     ]
    }
   ],
   "source": [
    "#redo loocv for 5 degrees of polynomial \n",
    "cv.error<-rep(0,5)\n",
    "for (i in 1:5){\n",
    "\tprint(paste(\"loocv for degree:\",i,\"..\"))\n",
    "\tglm.fit<-glm(mpg~poly(horsepower,i),data=Auto)\n",
    "\tcv.error[i] <- cv.glm(Auto, glm.fit)$delta[1]\n",
    "}\n",
    "print(\"loocv for poly of 5 degrees\")\n",
    "print(cv.error)"
   ]
  },
  {
   "cell_type": "markdown",
   "metadata": {},
   "source": [
    "## K-fold Cross Validation "
   ]
  },
  {
   "cell_type": "code",
   "execution_count": 8,
   "metadata": {
    "collapsed": false
   },
   "outputs": [
    {
     "name": "stdout",
     "output_type": "stream",
     "text": [
      "[1] \"k-fold for degree: 1 ..\"\n",
      "[1] \"k-fold for degree: 2 ..\"\n",
      "[1] \"k-fold for degree: 3 ..\"\n",
      "[1] \"k-fold for degree: 4 ..\"\n",
      "[1] \"k-fold for degree: 5 ..\"\n",
      "[1] \"k-fold for degree: 6 ..\"\n",
      "[1] \"k-fold for degree: 7 ..\"\n",
      "[1] \"k-fold for degree: 8 ..\"\n",
      "[1] \"k-fold for degree: 9 ..\"\n",
      "[1] \"k-fold for degree: 10 ..\"\n",
      "[1] \"k-fold for poly of 10 degrees k = 10\"\n",
      " [1] 24.20520 19.18924 19.30662 19.33799 18.87911 19.02103 18.89609 19.71201\n",
      " [9] 18.95140 19.50196\n"
     ]
    }
   ],
   "source": [
    "## redo the previous example with k-fold validation with k=10\n",
    "#faster cpu execution\n",
    "set.seed(17)\n",
    "cv.error10<-rep(0,10)\n",
    "for (i in 1:10){\n",
    "\tprint(paste(\"k-fold for degree:\",i,\"..\"))\n",
    "\tglm.fit<-glm(mpg~poly(horsepower,i),data=Auto)\n",
    "\tcv.error10[i] <- cv.glm(Auto, glm.fit,K=10)$delta[1] #same cv.glm func is used with K param\n",
    "}\n",
    "print(\"k-fold for poly of 10 degrees k = 10\")\n",
    "print(cv.error10)\n",
    "\n",
    "#we confirm that there is no point to use  the polynomial degree higher than 2 \n",
    "#in the linear regression model"
   ]
  },
  {
   "cell_type": "markdown",
   "metadata": {},
   "source": [
    "## Bootstrap"
   ]
  },
  {
   "cell_type": "code",
   "execution_count": 9,
   "metadata": {
    "collapsed": false
   },
   "outputs": [
    {
     "name": "stdout",
     "output_type": "stream",
     "text": [
      "[1] 0.4241679\n"
     ]
    }
   ],
   "source": [
    "#define a function which returns alpha investment coefficient\n",
    "#works with Portfolio dataset\n",
    "alpha.fn<-function(data,index){\n",
    "\tx<-data$X[index]\n",
    "\ty<-data$Y[index]\n",
    "    vx<-var(x)\n",
    "    vy<-var(y)\n",
    "    cxy<-cov(x,y)\n",
    "    return( (vx-cxy)/(vx+vy-2*cxy) )\n",
    "}\n",
    "\n",
    "print(alpha.fn(Portfolio,1:100))\n"
   ]
  },
  {
   "cell_type": "code",
   "execution_count": 10,
   "metadata": {
    "collapsed": false,
    "scrolled": true
   },
   "outputs": [
    {
     "name": "stdout",
     "output_type": "stream",
     "text": [
      "[1] 0.4036167\n",
      "\n",
      "ORDINARY NONPARAMETRIC BOOTSTRAP\n",
      "\n",
      "\n",
      "Call:\n",
      "boot(data = Portfolio, statistic = alpha.fn, R = 1000)\n",
      "\n",
      "\n",
      "Bootstrap Statistics :\n",
      "     original       bias    std. error\n",
      "t1* 0.4241679 7.315422e-05  0.08861826\n"
     ]
    }
   ],
   "source": [
    "set.seed(1)\n",
    "#alpha from a sampled dataset\n",
    "print(alpha.fn(Portfolio,sample(100,100,replace=T)))\n",
    "\n",
    "#calling  a bootstrap 1000 times\n",
    "print(boot(Portfolio, alpha.fn, R=1000))\n"
   ]
  },
  {
   "cell_type": "markdown",
   "metadata": {},
   "source": [
    "### Estimate accuracy of the linear regression model"
   ]
  },
  {
   "cell_type": "code",
   "execution_count": 11,
   "metadata": {
    "collapsed": false
   },
   "outputs": [
    {
     "name": "stdout",
     "output_type": "stream",
     "text": [
      "(Intercept)  horsepower \n",
      " 39.9358610  -0.1578447 \n"
     ]
    }
   ],
   "source": [
    "#define a function which returns coeffcients of our original lm model, using a specific \n",
    "#dataset index\n",
    "boot.fn<-function(data,index){\n",
    "\treturn (coef(lm(mpg~horsepower,data=data,subset=index)))\n",
    "}\n",
    "#return coeficients from an original dataset's index\n",
    "print(boot.fn(Auto,1:392))"
   ]
  },
  {
   "cell_type": "code",
   "execution_count": 12,
   "metadata": {
    "collapsed": false
   },
   "outputs": [
    {
     "name": "stdout",
     "output_type": "stream",
     "text": [
      "[1] \"## applying bootstrap 1000 times to estimate lm coefficients and its variability\"\n"
     ]
    },
    {
     "data": {
      "text/plain": [
       "\n",
       "ORDINARY NONPARAMETRIC BOOTSTRAP\n",
       "\n",
       "\n",
       "Call:\n",
       "boot(data = Auto, statistic = boot.fn, R = 1000)\n",
       "\n",
       "\n",
       "Bootstrap Statistics :\n",
       "      original        bias    std. error\n",
       "t1* 39.9358610  0.0269563085 0.859851825\n",
       "t2* -0.1578447 -0.0002906457 0.007402954"
      ]
     },
     "metadata": {},
     "output_type": "display_data"
    }
   ],
   "source": [
    "set.seed(1)\n",
    "print(\"## applying bootstrap 1000 times to estimate lm coefficients and its variability\")\n",
    "boot(Auto,boot.fn,1000)"
   ]
  },
  {
   "cell_type": "code",
   "execution_count": 13,
   "metadata": {
    "collapsed": false
   },
   "outputs": [
    {
     "name": "stdout",
     "output_type": "stream",
     "text": [
      "              Estimate  Std. Error   t value      Pr(>|t|)\n",
      "(Intercept) 39.9358610 0.717498656  55.65984 1.220362e-187\n",
      "horsepower  -0.1578447 0.006445501 -24.48914  7.031989e-81\n"
     ]
    }
   ],
   "source": [
    "#compare this with a standard lm call\n",
    "lm.fit<-lm(mpg~horsepower,data=Auto)\n",
    "print(summary(lm.fit)$coef)\n",
    "\n",
    "#we can observe the coefficients and their standard erors are similar"
   ]
  },
  {
   "cell_type": "code",
   "execution_count": null,
   "metadata": {
    "collapsed": true
   },
   "outputs": [],
   "source": []
  }
 ],
 "metadata": {
  "kernelspec": {
   "display_name": "R",
   "language": "R",
   "name": "ir"
  },
  "language_info": {
   "codemirror_mode": "r",
   "file_extension": ".r",
   "mimetype": "text/x-r-source",
   "name": "R",
   "pygments_lexer": "r",
   "version": "3.3.2"
  }
 },
 "nbformat": 4,
 "nbformat_minor": 2
}
